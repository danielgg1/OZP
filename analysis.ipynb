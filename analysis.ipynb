{
 "cells": [
  {
   "cell_type": "markdown",
   "id": "43c9ef3f",
   "metadata": {},
   "source": [
    "## ANALYSIS OF OZP RESULTS"
   ]
  },
  {
   "cell_type": "code",
   "execution_count": 1,
   "id": "9acad8df",
   "metadata": {},
   "outputs": [],
   "source": [
    "import pandas as pd\n",
    "import numpy as np"
   ]
  },
  {
   "cell_type": "code",
   "execution_count": 10,
   "id": "3edae01f",
   "metadata": {},
   "outputs": [],
   "source": [
    "results_phi_en = pd.DataFrame(pd.read_csv('Results\\EN-PHI3.csv'))\n",
    "results_phi_ru = pd.DataFrame(pd.read_csv('Results\\RU-PHI3.csv'))\n",
    "results_gemma_en = pd.DataFrame(pd.read_csv('Results\\EN-GEMMA.csv'))\n",
    "results_gemma_ru = pd.DataFrame(pd.read_csv('Results\\RU-GEMMA.csv'))\n",
    "results_llama_en = pd.DataFrame(pd.read_csv('Results\\EN-LLAMA3.csv'))\n",
    "results_llama_ru = pd.DataFrame(pd.read_csv('Results\\RU-LLAMA3.csv'))\n",
    "\n",
    "alldfs = {\n",
    "    \"PHI-EN\": results_phi_en, \n",
    "    \"PHI-RU\": results_phi_ru, \n",
    "    \"GEMMA-EN\": results_gemma_en, \n",
    "    \"GEMMA-RU\": results_gemma_ru, \n",
    "    \"LLAMA-EN\": results_llama_en, \n",
    "    \"LLAMA-RU\": results_llama_ru\n",
    "}"
   ]
  },
  {
   "cell_type": "markdown",
   "id": "9a44cb03",
   "metadata": {},
   "source": [
    "# Sampling for human evaluation"
   ]
  },
  {
   "cell_type": "code",
   "execution_count": 17,
   "id": "a8b15e46",
   "metadata": {},
   "outputs": [],
   "source": [
    "for name, df in alldfs.items():\n",
    "\n",
    "    beam_rows = df.loc[df[\"BeamSearch\"] == 4.0]\n",
    "    temp_08_rows = df.loc[df[\"Temperature\"] == 0.8]\n",
    "    temp_14_rows = df.loc[df[\"Temperature\"] == 1.4]\n",
    "\n",
    "    beam_sample = beam_rows.sample(10)\n",
    "    temp_08_sample = temp_08_rows.sample(10)\n",
    "    temp_14_sample = temp_14_rows.sample(10)\n",
    "\n",
    "    sample  = pd.concat([beam_sample, temp_08_sample, temp_14_sample], axis=0)\n",
    "    sample = sample.reset_index()\n",
    "\n",
    "    filename = f\"{name}_SAMPLE.csv\"\n",
    "    sample.to_csv(filename, index = True)\n",
    "\n",
    "    \n",
    "\n",
    "\n",
    "\n"
   ]
  }
 ],
 "metadata": {
  "kernelspec": {
   "display_name": "base",
   "language": "python",
   "name": "python3"
  },
  "language_info": {
   "codemirror_mode": {
    "name": "ipython",
    "version": 3
   },
   "file_extension": ".py",
   "mimetype": "text/x-python",
   "name": "python",
   "nbconvert_exporter": "python",
   "pygments_lexer": "ipython3",
   "version": "3.9.13"
  }
 },
 "nbformat": 4,
 "nbformat_minor": 5
}
